{
 "cells": [
  {
   "cell_type": "code",
   "execution_count": 32,
   "id": "cafdb6d5-6ab5-47a7-8171-b80c7890ca2c",
   "metadata": {},
   "outputs": [],
   "source": [
    "from sklearn.model_selection import train_test_split\n",
    "from sklearn.datasets import load_diabetes\n",
    "from sklearn.ensemble import RandomForestRegressor\n",
    "from sklearn.metrics import mean_absolute_error\n",
    "import pandas as pd\n",
    "import numpy as np\n",
    "import hashlib\n",
    "import mlflow \n",
    "import matplotlib.pyplot as plt\n",
    "import tempfile\n",
    "\n",
    "import mlflow\n",
    "mlflow.set_tracking_uri('http://server:5000')"
   ]
  },
  {
   "cell_type": "code",
   "execution_count": 9,
   "id": "946592a4-65e5-4e8d-94c0-b00e7156b7dd",
   "metadata": {},
   "outputs": [
    {
     "name": "stderr",
     "output_type": "stream",
     "text": [
      "2024/07/08 10:19:07 INFO mlflow.tracking.fluent: Experiment with name 'diabetes2' does not exist. Creating a new experiment.\n"
     ]
    },
    {
     "data": {
      "text/plain": [
       "<Experiment: artifact_location='mlflow-artifacts:/971852071468765181', creation_time=1720433947595, experiment_id='971852071468765181', last_update_time=1720433947595, lifecycle_stage='active', name='diabetes2', tags={}>"
      ]
     },
     "execution_count": 9,
     "metadata": {},
     "output_type": "execute_result"
    }
   ],
   "source": [
    "mlflow.set_experiment(\"diabetes2\")"
   ]
  },
  {
   "cell_type": "code",
   "execution_count": null,
   "id": "011a1915-9bfc-4b57-be22-6a9747e9c6fc",
   "metadata": {},
   "outputs": [],
   "source": [
    "Dataset(\n",
    "    name = 'Diabetes'\n",
    "     \n",
    "\n",
    ")\n",
    "\n",
    "dataset = "
   ]
  },
  {
   "cell_type": "code",
   "execution_count": 14,
   "id": "5695d68d-34a5-4ffa-b221-b0de1cb0e12e",
   "metadata": {},
   "outputs": [
    {
     "data": {
      "text/plain": [
       "'40d7178524ca50c5a8da255a6f04211ad0d1963e'"
      ]
     },
     "execution_count": 14,
     "metadata": {},
     "output_type": "execute_result"
    }
   ],
   "source": []
  },
  {
   "cell_type": "code",
   "execution_count": 15,
   "id": "6778455d-5fd1-4854-bddd-f505fa2bb376",
   "metadata": {},
   "outputs": [],
   "source": [
    "# Get data\n",
    "db = load_diabetes()\n",
    "df = pd.DataFrame(data= np.c_[db['data'], db['target']], columns= db['feature_names'] + ['target'])\n",
    "dataset = mlflow.data.from_pandas(\n",
    "    df,\n",
    "    targets = 'target',\n",
    "    name=\"diabetesDataset\",\n",
    "    digest = hashlib.sha1(pd.util.hash_pandas_object(df).values).hexdigest()\n",
    ")\n",
    "\n",
    "X_train, X_test, y_train, y_test = train_test_split(df.drop('target', axis=1), df['target'], random_state=666)"
   ]
  },
  {
   "cell_type": "code",
   "execution_count": 35,
   "id": "8142acb6-6dbd-4fca-a9cb-3a23bc10756e",
   "metadata": {},
   "outputs": [
    {
     "name": "stdout",
     "output_type": "stream",
     "text": [
      "/tmp/tmpxbaj9a_d\n"
     ]
    }
   ],
   "source": [
    "with tempfile.TemporaryDirectory() as tmp_dir:\n",
    "    print(tmp_dir)"
   ]
  },
  {
   "cell_type": "code",
   "execution_count": 38,
   "id": "e389594f-44d3-49bd-88fa-fad21b85faf3",
   "metadata": {},
   "outputs": [
    {
     "data": {
      "image/png": "[encoded data removed]",
      "text/plain": [
       "<Figure size 700x500 with 1 Axes>"
      ]
     },
     "metadata": {},
     "output_type": "display_data"
    }
   ],
   "source": [
    "with mlflow.start_run():\n",
    "    mlflow.set_tag(\"training_info\", \"lalala\")\n",
    "    mlflow.set_tag('mlflow.note.content', 'Lovely description, trying out something **new**')\n",
    "    \n",
    "    # metadata about the data\n",
    "    mlflow.log_input(dataset, tags={'mlflow.data.context': 'all_data', 'random_state': '666'})\n",
    "    \n",
    "    # The actual data (since log_input is only metadata)\n",
    "    #mlflow.log_table(X_train, artifact_file = 'data/X_train.parquet')\n",
    "    #mlflow.log_table(X_train, artifact_file = 'data/X_train.json')\n",
    "\n",
    "    # Persists any arbitrary file\n",
    "    #with tempfile.TemporaryDirectory() as tmp_dir:\n",
    "    #    y_test.to_csv(f'{tmp_dir}/y_test.csv')\n",
    "    #    mlflow.log_artifacts(tmp_dir, artifact_path=\"data\")\n",
    "    \n",
    "    # Train model\n",
    "    params = {'n_estimators': 1, 'max_depth': 15, 'max_features': 99}\n",
    "    mlflow.log_params(params)\n",
    "    model = RandomForestRegressor(**params)\n",
    "    model.fit(X_train, y_train)\n",
    "    mlflow.sklearn.log_model(\n",
    "        sk_model=model,\n",
    "        artifact_path=\"model\",\n",
    "        signature=mlflow.models.infer_signature(X_train, model.predict(X_train)),\n",
    "        input_example=X_train,\n",
    "        #registered_model_name=\"tracking-quickstart\",\n",
    "    )\n",
    "\n",
    "    # Evaluate model\n",
    "    y_pred = model.predict(X_test)\n",
    "    mlflow.log_metric(\"mean_absolute_error_test\", mean_absolute_error(y_test, y_pred))\n",
    "    mlflow.log_metric(\"something_custom\", 666)\n",
    "    \n",
    "    fig, axs = plt.subplots(figsize=(7, 5))\n",
    "    plt.scatter(y_pred, y_test)\n",
    "    mlflow.log_figure(fig, 'predictions.png')\n"
   ]
  }
 ],
 "metadata": {
  "kernelspec": {
   "display_name": "Python 3 (ipykernel)",
   "language": "python",
   "name": "python3"
  },
  "language_info": {
   "codemirror_mode": {
    "name": "ipython",
    "version": 3
   },
   "file_extension": ".py",
   "mimetype": "text/x-python",
   "name": "python",
   "nbconvert_exporter": "python",
   "pygments_lexer": "ipython3",
   "version": "3.10.12"
  }
 },
 "nbformat": 4,
 "nbformat_minor": 5
}
