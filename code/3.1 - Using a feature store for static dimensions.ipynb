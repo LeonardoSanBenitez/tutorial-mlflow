{
 "cells": [
  {
   "cell_type": "code",
   "execution_count": 45,
   "id": "e4668962-7759-4ee5-a06e-5e28c724dc5e",
   "metadata": {},
   "outputs": [],
   "source": [
    "from sklearn.model_selection import train_test_split\n",
    "from sklearn.datasets import load_diabetes\n",
    "from sklearn.ensemble import RandomForestRegressor\n",
    "from sklearn.metrics import mean_absolute_error\n",
    "import pandas as pd"
   ]
  },
  {
   "cell_type": "code",
   "execution_count": 131,
   "id": "6ea0f076-fe99-4bb9-a74a-4b604a9da477",
   "metadata": {},
   "outputs": [
    {
     "data": {
      "text/html": [
       "<div>\n",
       "<style scoped>\n",
       "    .dataframe tbody tr th:only-of-type {\n",
       "        vertical-align: middle;\n",
       "    }\n",
       "\n",
       "    .dataframe tbody tr th {\n",
       "        vertical-align: top;\n",
       "    }\n",
       "\n",
       "    .dataframe thead th {\n",
       "        text-align: right;\n",
       "    }\n",
       "</style>\n",
       "<table border=\"1\" class=\"dataframe\">\n",
       "  <thead>\n",
       "    <tr style=\"text-align: right;\">\n",
       "      <th></th>\n",
       "      <th>name</th>\n",
       "      <th>liters_of_beer</th>\n",
       "      <th>wasted</th>\n",
       "    </tr>\n",
       "  </thead>\n",
       "  <tbody>\n",
       "    <tr>\n",
       "      <th>0</th>\n",
       "      <td>leonardo</td>\n",
       "      <td>0.5</td>\n",
       "      <td>0</td>\n",
       "    </tr>\n",
       "    <tr>\n",
       "      <th>1</th>\n",
       "      <td>leonardo</td>\n",
       "      <td>2.5</td>\n",
       "      <td>1</td>\n",
       "    </tr>\n",
       "    <tr>\n",
       "      <th>2</th>\n",
       "      <td>leonardo</td>\n",
       "      <td>3.2</td>\n",
       "      <td>1</td>\n",
       "    </tr>\n",
       "    <tr>\n",
       "      <th>3</th>\n",
       "      <td>bruno</td>\n",
       "      <td>3.1</td>\n",
       "      <td>1</td>\n",
       "    </tr>\n",
       "    <tr>\n",
       "      <th>4</th>\n",
       "      <td>carla</td>\n",
       "      <td>1.0</td>\n",
       "      <td>1</td>\n",
       "    </tr>\n",
       "    <tr>\n",
       "      <th>5</th>\n",
       "      <td>carla</td>\n",
       "      <td>0.1</td>\n",
       "      <td>0</td>\n",
       "    </tr>\n",
       "    <tr>\n",
       "      <th>6</th>\n",
       "      <td>carla</td>\n",
       "      <td>0.2</td>\n",
       "      <td>0</td>\n",
       "    </tr>\n",
       "    <tr>\n",
       "      <th>7</th>\n",
       "      <td>maria</td>\n",
       "      <td>1.0</td>\n",
       "      <td>0</td>\n",
       "    </tr>\n",
       "    <tr>\n",
       "      <th>8</th>\n",
       "      <td>maria</td>\n",
       "      <td>3.0</td>\n",
       "      <td>1</td>\n",
       "    </tr>\n",
       "    <tr>\n",
       "      <th>9</th>\n",
       "      <td>jose</td>\n",
       "      <td>1.5</td>\n",
       "      <td>0</td>\n",
       "    </tr>\n",
       "    <tr>\n",
       "      <th>10</th>\n",
       "      <td>jose</td>\n",
       "      <td>2.4</td>\n",
       "      <td>0</td>\n",
       "    </tr>\n",
       "    <tr>\n",
       "      <th>11</th>\n",
       "      <td>jose</td>\n",
       "      <td>2.9</td>\n",
       "      <td>1</td>\n",
       "    </tr>\n",
       "    <tr>\n",
       "      <th>12</th>\n",
       "      <td>pedro</td>\n",
       "      <td>1.4</td>\n",
       "      <td>1</td>\n",
       "    </tr>\n",
       "  </tbody>\n",
       "</table>\n",
       "</div>"
      ],
      "text/plain": [
       "        name  liters_of_beer  wasted\n",
       "0   leonardo             0.5       0\n",
       "1   leonardo             2.5       1\n",
       "2   leonardo             3.2       1\n",
       "3      bruno             3.1       1\n",
       "4      carla             1.0       1\n",
       "5      carla             0.1       0\n",
       "6      carla             0.2       0\n",
       "7      maria             1.0       0\n",
       "8      maria             3.0       1\n",
       "9       jose             1.5       0\n",
       "10      jose             2.4       0\n",
       "11      jose             2.9       1\n",
       "12     pedro             1.4       1"
      ]
     },
     "execution_count": 131,
     "metadata": {},
     "output_type": "execute_result"
    }
   ],
   "source": [
    "df_fact = pd.DataFrame([\n",
    "    ['leonardo', 0.5, 0],\n",
    "    ['leonardo', 2.5, 1],\n",
    "    ['leonardo', 3.2, 1],\n",
    "    ['bruno', 3.1, 1],\n",
    "    ['carla', 1, 1],\n",
    "    ['carla', 0.1, 0],\n",
    "    ['carla', 0.2, 0],\n",
    "    ['maria', 1, 0],\n",
    "    ['maria', 3, 1],\n",
    "    ['jose', 1.5, 0],\n",
    "    ['jose', 2.4, 0],\n",
    "    ['jose', 2.9, 1],\n",
    "    ['pedro', 1.4, 1],\n",
    "], columns = ['name', 'liters_of_beer', 'wasted'])\n",
    "df_fact"
   ]
  },
  {
   "cell_type": "code",
   "execution_count": 170,
   "id": "af20d6c5-c057-44dc-b1b7-2f48f787b6e0",
   "metadata": {},
   "outputs": [
    {
     "data": {
      "text/html": [
       "<div>\n",
       "<style scoped>\n",
       "    .dataframe tbody tr th:only-of-type {\n",
       "        vertical-align: middle;\n",
       "    }\n",
       "\n",
       "    .dataframe tbody tr th {\n",
       "        vertical-align: top;\n",
       "    }\n",
       "\n",
       "    .dataframe thead th {\n",
       "        text-align: right;\n",
       "    }\n",
       "</style>\n",
       "<table border=\"1\" class=\"dataframe\">\n",
       "  <thead>\n",
       "    <tr style=\"text-align: right;\">\n",
       "      <th></th>\n",
       "      <th>name</th>\n",
       "      <th>weight</th>\n",
       "    </tr>\n",
       "  </thead>\n",
       "  <tbody>\n",
       "    <tr>\n",
       "      <th>0</th>\n",
       "      <td>leonardo</td>\n",
       "      <td>60</td>\n",
       "    </tr>\n",
       "    <tr>\n",
       "      <th>1</th>\n",
       "      <td>bruno</td>\n",
       "      <td>75</td>\n",
       "    </tr>\n",
       "    <tr>\n",
       "      <th>2</th>\n",
       "      <td>carla</td>\n",
       "      <td>50</td>\n",
       "    </tr>\n",
       "    <tr>\n",
       "      <th>3</th>\n",
       "      <td>maria</td>\n",
       "      <td>85</td>\n",
       "    </tr>\n",
       "    <tr>\n",
       "      <th>4</th>\n",
       "      <td>jose</td>\n",
       "      <td>97</td>\n",
       "    </tr>\n",
       "    <tr>\n",
       "      <th>5</th>\n",
       "      <td>pedro</td>\n",
       "      <td>80</td>\n",
       "    </tr>\n",
       "  </tbody>\n",
       "</table>\n",
       "</div>"
      ],
      "text/plain": [
       "       name  weight\n",
       "0  leonardo      60\n",
       "1     bruno      75\n",
       "2     carla      50\n",
       "3     maria      85\n",
       "4      jose      97\n",
       "5     pedro      80"
      ]
     },
     "execution_count": 170,
     "metadata": {},
     "output_type": "execute_result"
    }
   ],
   "source": [
    "df_dimension_weight = pd.DataFrame([\n",
    "    ['leonardo', 60],\n",
    "    ['bruno', 75],\n",
    "    ['carla', 50],\n",
    "    ['maria', 85],\n",
    "    ['jose', 97],\n",
    "    ['pedro', 80],\n",
    "], columns = ['name', 'weight'])\n",
    "df_dimension_weight\n"
   ]
  },
  {
   "cell_type": "markdown",
   "id": "7cb35871-148e-4319-bdd5-dfb9b976f73f",
   "metadata": {},
   "source": [
    "# Without feature store"
   ]
  },
  {
   "cell_type": "code",
   "execution_count": 171,
   "id": "48e61351-c771-4224-9a3f-06aa90dc4198",
   "metadata": {},
   "outputs": [
    {
     "data": {
      "text/plain": [
       "<Axes: xlabel='liters_of_beer', ylabel='weight'>"
      ]
     },
     "execution_count": 171,
     "metadata": {},
     "output_type": "execute_result"
    },
    {
     "data": {
      "image/png": "[encoded data removed]",
      "text/plain": [
       "<Figure size 640x480 with 1 Axes>"
      ]
     },
     "metadata": {},
     "output_type": "display_data"
    }
   ],
   "source": [
    "# Data preparation (joining with another table)\n",
    "df = df_fact.set_index('name').join(df_dimension_weight.set_index('name'))\n",
    "df.reset_index(inplace=True)\n",
    "\n",
    "df.plot.scatter('liters_of_beer', 'weight', c=['green' if wasted == 0 else 'red' for wasted in df['wasted']])"
   ]
  },
  {
   "cell_type": "code",
   "execution_count": null,
   "id": "c7da5d6d-8ab3-4362-974a-b559d40cc3cc",
   "metadata": {},
   "outputs": [],
   "source": [
    "# Do the ML training thing\n",
    "X_train, X_test, y_train, y_test = train_test_split(df.drop(['wasted', 'name'], axis=1), df['wasted'])\n",
    "model = RandomForestRegressor(n_estimators=1, max_depth=4, max_features=3).fit(X_train, y_train)\n",
    "mean_absolute_error(y_test, model.predict(X_test))"
   ]
  },
  {
   "cell_type": "code",
   "execution_count": null,
   "id": "cf62a8b5-4aed-4311-ac11-7dd556cb50f7",
   "metadata": {},
   "outputs": [],
   "source": [
    "# Make an inference\n",
    "df_fact_new = pd.DataFrame([\n",
    "    ['leonardo', 0.1],\n",
    "    ['leonardo', 5],\n",
    "], columns=['name', 'liters_of_beer'])\n",
    "\n",
    "df_new = df_fact_new.set_index('name').join(df_dimension_weight.set_index('name'))\n",
    "model.predict(df_new)"
   ]
  },
  {
   "cell_type": "markdown",
   "id": "56ba1173-7937-49b2-8cd8-610c61da6ccc",
   "metadata": {},
   "source": [
    "# Using Feast\n",
    "\n",
    "running locally, with file-based storage"
   ]
  },
  {
   "cell_type": "code",
   "execution_count": 25,
   "id": "39b93f8f-f58c-424e-9c61-26e6f777253d",
   "metadata": {},
   "outputs": [],
   "source": [
    "#!pip install feast"
   ]
  },
  {
   "cell_type": "code",
   "execution_count": 26,
   "id": "64f27885-c9fb-4ae5-8425-05ad5efd02ab",
   "metadata": {},
   "outputs": [],
   "source": [
    "#!feast init \"feast_tutorial\""
   ]
  },
  {
   "cell_type": "code",
   "execution_count": null,
   "id": "441c413d-2a86-4f69-98c3-636db4e22dcf",
   "metadata": {},
   "outputs": [],
   "source": [
    "# TODO"
   ]
  },
  {
   "cell_type": "markdown",
   "id": "96b461fb-31e8-44eb-b507-c3cea052621f",
   "metadata": {},
   "source": [
    "# Using Databricks\n",
    "This code only runs within the databricks notebooks\n",
    "\n",
    "suposes the prior existance of:\n",
    "1. Catalog named `test_databricks`\n",
    "2. Schema named `default`\n",
    "\n",
    "The workspace should be Premium or Enterprise"
   ]
  },
  {
   "cell_type": "code",
   "execution_count": null,
   "id": "c48933d8-d99f-474a-81a7-3d2fe63589ad",
   "metadata": {},
   "outputs": [],
   "source": [
    "from databricks import feature_store\n",
    "from databricks.feature_engineering import FeatureLookup\n",
    "import mlflow\n",
    "mlflow.autolog()\n",
    "mlflow.set_experiment(\"/Users/lsbenitezpereira@gmail.com/tutorial_feature_store\")"
   ]
  },
  {
   "cell_type": "code",
   "execution_count": null,
   "id": "0ec05cbe-dd5b-4230-89a8-ac4e937e3883",
   "metadata": {},
   "outputs": [],
   "source": [
    "# Register feature\n",
    "spark.sql('''\n",
    "CREATE TABLE IF NOT EXISTS test_databricks.default.dimension_weight(\n",
    "    name STRING NOT NULL,\n",
    "    weight BIGINT,\n",
    "    CONSTRAINT name_pk PRIMARY KEY(name)\n",
    ");\n",
    "''')\n",
    "spark.createDataFrame(df_dimension_weight).write.format(\"delta\").mode(\"overwrite\").option(\"mergeSchema\", \"true\").saveAsTable(\"test_databricks.default.dimension_weight\")"
   ]
  },
  {
   "cell_type": "code",
   "execution_count": null,
   "id": "57d8e88a",
   "metadata": {},
   "outputs": [],
   "source": [
    "# Prepare data (join facts with precomputed dimensions)\n",
    "fs = feature_store.FeatureStoreClient()\n",
    "dataset_with_feature_metadata = fs.create_training_set(\n",
    "    df=spark.createDataFrame(df_fact),\n",
    "    feature_lookups= [\n",
    "        FeatureLookup(\n",
    "            table_name='default.dimension_weight',\n",
    "            feature_names=['weight'],\n",
    "            lookup_key='name',\n",
    "        )\n",
    "    ],\n",
    "    label = 'wasted',\n",
    "    exclude_columns = ['name'],\n",
    ")\n",
    "df = dataset_with_feature_metadata.load_df().toPandas()\n",
    "df"
   ]
  },
  {
   "cell_type": "code",
   "execution_count": null,
   "id": "e89bcb38-f63b-49f0-9a0e-221b4946ab45",
   "metadata": {},
   "outputs": [],
   "source": [
    "with mlflow.start_run() as run:\n",
    "    run_id = run.info.run_id\n",
    "\n",
    "    # Do the ML thing\n",
    "    X_train, X_test, y_train, y_test = train_test_split(df.drop(['wasted'], axis=1), df['wasted'])\n",
    "    model = RandomForestRegressor(n_estimators=1, max_depth=5, max_features=3).fit(X_train, y_train)\n",
    "    mean_absolute_error(y_test, model.predict(X_test))\n",
    "\n",
    "    fs.log_model(\n",
    "        model=model,\n",
    "        artifact_path=\"model\",\n",
    "        flavor=mlflow.sklearn,\n",
    "        training_set=dataset_with_feature_metadata,  # This is the magic step\n",
    "    )"
   ]
  },
  {
   "cell_type": "code",
   "execution_count": null,
   "id": "df4d6344-0c38-4b98-a102-7d3fb4dcc82c",
   "metadata": {},
   "outputs": [],
   "source": [
    "# Make an inference\n",
    "# No need to join anymore... MIRACLE!!!\n",
    "# The need of a join is already captured in the mlflow model metadata\n",
    "# Therefore, MLflow can perform it automatically for you\n",
    "# Plus lineage, point-in-time join, etc\n",
    "\n",
    "df_fact_new = pd.DataFrame([\n",
    "    ['leonardo', 0.1],\n",
    "    ['leonardo', 5],\n",
    "], columns=['name', 'liters_of_beer'])\n",
    "\n",
    "fs.score_batch(\n",
    "    model_uri=f\"runs:/{run_id}/model\",\n",
    "    df=spark.createDataFrame(df_fact_new),\n",
    ").show()"
   ]
  }
 ],
 "metadata": {
  "kernelspec": {
   "display_name": "Python 3 (ipykernel)",
   "language": "python",
   "name": "python3"
  },
  "language_info": {
   "codemirror_mode": {
    "name": "ipython",
    "version": 3
   },
   "file_extension": ".py",
   "mimetype": "text/x-python",
   "name": "python",
   "nbconvert_exporter": "python",
   "pygments_lexer": "ipython3",
   "version": "3.10.12"
  }
 },
 "nbformat": 4,
 "nbformat_minor": 5
}
