{
 "cells": [
  {
   "cell_type": "code",
   "execution_count": 1,
   "id": "f557aa1f",
   "metadata": {},
   "outputs": [
    {
     "name": "stdout",
     "output_type": "stream",
     "text": [
      "Collecting hyperopt\n",
      "  Downloading hyperopt-0.2.7-py2.py3-none-any.whl.metadata (1.7 kB)\n",
      "Requirement already satisfied: numpy in /usr/local/lib/python3.10/dist-packages (from hyperopt) (1.26.4)\n",
      "Requirement already satisfied: scipy in /usr/local/lib/python3.10/dist-packages (from hyperopt) (1.14.0)\n",
      "Requirement already satisfied: six in /usr/local/lib/python3.10/dist-packages (from hyperopt) (1.16.0)\n",
      "Collecting networkx>=2.2 (from hyperopt)\n",
      "  Downloading networkx-3.3-py3-none-any.whl.metadata (5.1 kB)\n",
      "Collecting future (from hyperopt)\n",
      "  Downloading future-1.0.0-py3-none-any.whl.metadata (4.0 kB)\n",
      "Collecting tqdm (from hyperopt)\n",
      "  Downloading tqdm-4.66.4-py3-none-any.whl.metadata (57 kB)\n",
      "\u001b[2K     \u001b[90m━━━━━━━━━━━━━━━━━━━━━━━━━━━━━━━━━━━━━━━━\u001b[0m \u001b[32m57.6/57.6 kB\u001b[0m \u001b[31m2.3 MB/s\u001b[0m eta \u001b[36m0:00:00\u001b[0m\n",
      "\u001b[?25hRequirement already satisfied: cloudpickle in /usr/local/lib/python3.10/dist-packages (from hyperopt) (3.0.0)\n",
      "Collecting py4j (from hyperopt)\n",
      "  Downloading py4j-0.10.9.7-py2.py3-none-any.whl.metadata (1.5 kB)\n",
      "Downloading hyperopt-0.2.7-py2.py3-none-any.whl (1.6 MB)\n",
      "\u001b[2K   \u001b[90m━━━━━━━━━━━━━━━━━━━━━━━━━━━━━━━━━━━━━━━━\u001b[0m \u001b[32m1.6/1.6 MB\u001b[0m \u001b[31m5.0 MB/s\u001b[0m eta \u001b[36m0:00:00\u001b[0ma \u001b[36m0:00:01\u001b[0m\n",
      "\u001b[?25hDownloading networkx-3.3-py3-none-any.whl (1.7 MB)\n",
      "\u001b[2K   \u001b[90m━━━━━━━━━━━━━━━━━━━━━━━━━━━━━━━━━━━━━━━━\u001b[0m \u001b[32m1.7/1.7 MB\u001b[0m \u001b[31m5.6 MB/s\u001b[0m eta \u001b[36m0:00:00\u001b[0m00:01\u001b[0m00:01\u001b[0m\n",
      "\u001b[?25hDownloading future-1.0.0-py3-none-any.whl (491 kB)\n",
      "\u001b[2K   \u001b[90m━━━━━━━━━━━━━━━━━━━━━━━━━━━━━━━━━━━━━━━━\u001b[0m \u001b[32m491.3/491.3 kB\u001b[0m \u001b[31m6.0 MB/s\u001b[0m eta \u001b[36m0:00:00\u001b[0m00:01\u001b[0m00:01\u001b[0m\n",
      "\u001b[?25hDownloading py4j-0.10.9.7-py2.py3-none-any.whl (200 kB)\n",
      "\u001b[2K   \u001b[90m━━━━━━━━━━━━━━━━━━━━━━━━━━━━━━━━━━━━━━━━\u001b[0m \u001b[32m200.5/200.5 kB\u001b[0m \u001b[31m7.0 MB/s\u001b[0m eta \u001b[36m0:00:00\u001b[0m\n",
      "\u001b[?25hDownloading tqdm-4.66.4-py3-none-any.whl (78 kB)\n",
      "\u001b[2K   \u001b[90m━━━━━━━━━━━━━━━━━━━━━━━━━━━━━━━━━━━━━━━━\u001b[0m \u001b[32m78.3/78.3 kB\u001b[0m \u001b[31m6.7 MB/s\u001b[0m eta \u001b[36m0:00:00\u001b[0m\n",
      "\u001b[?25hInstalling collected packages: py4j, tqdm, networkx, future, hyperopt\n",
      "Successfully installed future-1.0.0 hyperopt-0.2.7 networkx-3.3 py4j-0.10.9.7 tqdm-4.66.4\n",
      "\u001b[33mWARNING: Running pip as the 'root' user can result in broken permissions and conflicting behaviour with the system package manager, possibly rendering your system unusable.It is recommended to use a virtual environment instead: https://pip.pypa.io/warnings/venv. Use the --root-user-action option if you know what you are doing and want to suppress this warning.\u001b[0m\u001b[33m\n",
      "\u001b[0m"
     ]
    }
   ],
   "source": [
    "! pip install hyperopt~=0.2"
   ]
  },
  {
   "cell_type": "code",
   "execution_count": 17,
   "id": "829c0fea",
   "metadata": {},
   "outputs": [],
   "source": [
    "from sklearn.datasets import load_iris\n",
    "from sklearn.model_selection import cross_val_score\n",
    "from sklearn.ensemble import RandomForestRegressor\n",
    "from sklearn.metrics import mean_absolute_error\n",
    "from sklearn.datasets import load_diabetes\n",
    "from sklearn.model_selection import train_test_split\n",
    "\n",
    "from hyperopt import fmin, tpe, hp, STATUS_OK, Trials\n",
    "import mlflow"
   ]
  },
  {
   "cell_type": "code",
   "execution_count": 18,
   "id": "8d821c25",
   "metadata": {},
   "outputs": [],
   "source": [
    "# Get data\n",
    "db = load_diabetes()\n",
    "X_train, X_test, y_train, y_test = train_test_split(db.data, db.target)"
   ]
  },
  {
   "cell_type": "markdown",
   "id": "0bed3ae7-bc82-46b4-b2a2-4a35dad71ea5",
   "metadata": {},
   "source": [
    "# Without MLflow"
   ]
  },
  {
   "cell_type": "code",
   "execution_count": 33,
   "id": "0ea6fdc9-1323-4ab0-b166-db63d164f5a4",
   "metadata": {},
   "outputs": [
    {
     "name": "stdout",
     "output_type": "stream",
     "text": [
      "Trying for max_depth=60.0                            \n",
      "Trying for max_depth=4.0                             \n",
      "Trying for max_depth=188.0                                                    \n",
      "Trying for max_depth=274.0                                                    \n",
      "Trying for max_depth=41.0                                                     \n",
      "100%|██████████| 5/5 [00:00<00:00, 83.18trial/s, best loss: -67.3963963963964]\n",
      "Best value found:  {'max_depth': 60.0}\n",
      "CPU times: user 62.4 ms, sys: 8.2 ms, total: 70.6 ms\n",
      "Wall time: 64.9 ms\n"
     ]
    }
   ],
   "source": [
    "%%time\n",
    "def objective(max_depth: float) -> dict:\n",
    "    '''\n",
    "    Tries one model\n",
    "    Should return a metric to be minimized (lower = better)\n",
    "    '''\n",
    "    print(f\"Trying for max_depth={max_depth}\")\n",
    "    \n",
    "    # Train model\n",
    "    model = RandomForestRegressor(n_estimators=1, max_depth=int(max_depth))\n",
    "    model.fit(X_train, y_train)\n",
    "    \n",
    "    # Evaluate model\n",
    "    y_pred = model.predict(X_test)\n",
    "    mae = mean_absolute_error(y_test, y_pred)\n",
    "    return {'loss': -mae, 'status': STATUS_OK}\n",
    "\n",
    "argmin = fmin(\n",
    "  fn=objective,\n",
    "  space=hp.quniform('max_depth', low=1, high=300, q=1), # space of values to test\n",
    "  algo=tpe.suggest,\n",
    "  max_evals=5,\n",
    ")\n",
    "\n",
    "print(\"Best value found: \", argmin)"
   ]
  },
  {
   "cell_type": "markdown",
   "id": "9a8195e2-274b-4875-a7e8-5f7f7ff1de0c",
   "metadata": {},
   "source": [
    "# With MLflow"
   ]
  },
  {
   "cell_type": "code",
   "execution_count": 32,
   "id": "d19d7a0d-b45e-4afa-a00b-700c366613b1",
   "metadata": {},
   "outputs": [
    {
     "name": "stdout",
     "output_type": "stream",
     "text": [
      "100%|██████████| 5/5 [00:09<00:00,  1.90s/trial, best loss: -66.17117117117117]\n",
      "Best value found:  {'max_depth': 173.0}\n",
      "CPU times: user 654 ms, sys: 36.1 ms, total: 690 ms\n",
      "Wall time: 9.52 s\n"
     ]
    }
   ],
   "source": [
    "%%time\n",
    "def objective(max_depth: float) -> dict:\n",
    "    with mlflow.start_run():\n",
    "        mlflow.log_params({'max_depth': max_depth})\n",
    "        \n",
    "        # Train model\n",
    "        model = RandomForestRegressor(n_estimators=1, max_depth=int(max_depth))\n",
    "        model.fit(X_train, y_train)\n",
    "        mlflow.sklearn.log_model(\n",
    "            sk_model=model,\n",
    "            artifact_path=\"model\",\n",
    "            signature=mlflow.models.infer_signature(X_train, model.predict(X_train)),\n",
    "            input_example=X_train,\n",
    "        )\n",
    "        \n",
    "        # Evaluate model\n",
    "        y_pred = model.predict(X_test)\n",
    "        mae = mean_absolute_error(y_test, y_pred)\n",
    "        mlflow.log_metric(\"mean_absolute_error_test\", mean_absolute_error(y_test, y_pred))\n",
    "        return {'loss': -mae, 'status': STATUS_OK}\n",
    "\n",
    "mlflow.set_tracking_uri('http://server:5000')\n",
    "mlflow.set_experiment(\"hyperopt1\")\n",
    "argmin = fmin(\n",
    "  fn=objective,\n",
    "  space=hp.quniform('max_depth', low=1, high=300, q=1), # space of values to test\n",
    "  algo=tpe.suggest,\n",
    "  max_evals=5,\n",
    ")\n",
    "\n",
    "print(\"Best value found: \", argmin)"
   ]
  },
  {
   "cell_type": "markdown",
   "id": "e7a0383e-d8b9-41fd-96c0-63d142902b1e",
   "metadata": {},
   "source": [
    "# With MLflow hierarquical runs"
   ]
  },
  {
   "cell_type": "code",
   "execution_count": 31,
   "id": "31920319-14a2-4293-a354-cff9f1a6ef72",
   "metadata": {},
   "outputs": [
    {
     "name": "stdout",
     "output_type": "stream",
     "text": [
      "100%|██████████| 5/5 [00:09<00:00,  1.92s/trial, best loss: -65.34234234234235] \n",
      "Best value found:  {'max_depth': 98.0}\n",
      "CPU times: user 672 ms, sys: 45.3 ms, total: 717 ms\n",
      "Wall time: 9.67 s\n"
     ]
    }
   ],
   "source": [
    "%%time\n",
    "def objective(max_depth: float) -> dict:\n",
    "    with mlflow.start_run(nested=True):\n",
    "        mlflow.log_params({'max_depth': max_depth})\n",
    "        \n",
    "        # Train model\n",
    "        model = RandomForestRegressor(n_estimators=1, max_depth=int(max_depth))\n",
    "        model.fit(X_train, y_train)\n",
    "        mlflow.sklearn.log_model(\n",
    "            sk_model=model,\n",
    "            artifact_path=\"model\",\n",
    "            signature=mlflow.models.infer_signature(X_train, model.predict(X_train)),\n",
    "            input_example=X_train,\n",
    "        )\n",
    "        \n",
    "        # Evaluate model\n",
    "        y_pred = model.predict(X_test)\n",
    "        mae = mean_absolute_error(y_test, y_pred)\n",
    "        mlflow.log_metric(\"mean_absolute_error_test\", mean_absolute_error(y_test, y_pred))\n",
    "        return {'loss': -mae, 'status': STATUS_OK}\n",
    "\n",
    "mlflow.set_tracking_uri('http://server:5000')\n",
    "mlflow.set_experiment(\"hyperopt2\")\n",
    "with mlflow.start_run(description='Parent run for hyperopt over max_depth', nested=True):\n",
    "    argmin = fmin(\n",
    "      fn=objective,\n",
    "      space=hp.quniform('max_depth', low=1, high=300, q=1), # space of values to test\n",
    "      algo=tpe.suggest,\n",
    "      max_evals=5,\n",
    "    )\n",
    "    \n",
    "    print(\"Best value found: \", argmin)"
   ]
  }
 ],
 "metadata": {
  "kernelspec": {
   "display_name": "Python 3 (ipykernel)",
   "language": "python",
   "name": "python3"
  },
  "language_info": {
   "codemirror_mode": {
    "name": "ipython",
    "version": 3
   },
   "file_extension": ".py",
   "mimetype": "text/x-python",
   "name": "python",
   "nbconvert_exporter": "python",
   "pygments_lexer": "ipython3",
   "version": "3.10.12"
  }
 },
 "nbformat": 4,
 "nbformat_minor": 5
}
