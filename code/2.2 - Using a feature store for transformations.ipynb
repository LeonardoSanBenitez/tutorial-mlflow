{
 "cells": [
  {
   "cell_type": "code",
   "execution_count": 2,
   "id": "e4668962-7759-4ee5-a06e-5e28c724dc5e",
   "metadata": {},
   "outputs": [],
   "source": [
    "from sklearn.model_selection import train_test_split\n",
    "from sklearn.ensemble import RandomForestRegressor\n",
    "from sklearn.metrics import mean_absolute_error\n",
    "import pandas as pd"
   ]
  },
  {
   "cell_type": "code",
   "execution_count": 54,
   "id": "6ea0f076-fe99-4bb9-a74a-4b604a9da477",
   "metadata": {},
   "outputs": [
    {
     "data": {
      "text/html": [
       "<div>\n",
       "<style scoped>\n",
       "    .dataframe tbody tr th:only-of-type {\n",
       "        vertical-align: middle;\n",
       "    }\n",
       "\n",
       "    .dataframe tbody tr th {\n",
       "        vertical-align: top;\n",
       "    }\n",
       "\n",
       "    .dataframe thead th {\n",
       "        text-align: right;\n",
       "    }\n",
       "</style>\n",
       "<table border=\"1\" class=\"dataframe\">\n",
       "  <thead>\n",
       "    <tr style=\"text-align: right;\">\n",
       "      <th></th>\n",
       "      <th>weight</th>\n",
       "      <th>liters_of_beer</th>\n",
       "      <th>wasted</th>\n",
       "    </tr>\n",
       "  </thead>\n",
       "  <tbody>\n",
       "    <tr>\n",
       "      <th>0</th>\n",
       "      <td>60</td>\n",
       "      <td>0.5</td>\n",
       "      <td>0</td>\n",
       "    </tr>\n",
       "    <tr>\n",
       "      <th>1</th>\n",
       "      <td>60</td>\n",
       "      <td>2.5</td>\n",
       "      <td>1</td>\n",
       "    </tr>\n",
       "    <tr>\n",
       "      <th>2</th>\n",
       "      <td>60</td>\n",
       "      <td>3.2</td>\n",
       "      <td>1</td>\n",
       "    </tr>\n",
       "    <tr>\n",
       "      <th>3</th>\n",
       "      <td>75</td>\n",
       "      <td>3.1</td>\n",
       "      <td>1</td>\n",
       "    </tr>\n",
       "    <tr>\n",
       "      <th>4</th>\n",
       "      <td>50</td>\n",
       "      <td>1.0</td>\n",
       "      <td>1</td>\n",
       "    </tr>\n",
       "    <tr>\n",
       "      <th>5</th>\n",
       "      <td>50</td>\n",
       "      <td>0.1</td>\n",
       "      <td>0</td>\n",
       "    </tr>\n",
       "    <tr>\n",
       "      <th>6</th>\n",
       "      <td>50</td>\n",
       "      <td>0.2</td>\n",
       "      <td>0</td>\n",
       "    </tr>\n",
       "    <tr>\n",
       "      <th>7</th>\n",
       "      <td>85</td>\n",
       "      <td>1.0</td>\n",
       "      <td>0</td>\n",
       "    </tr>\n",
       "    <tr>\n",
       "      <th>8</th>\n",
       "      <td>85</td>\n",
       "      <td>3.0</td>\n",
       "      <td>1</td>\n",
       "    </tr>\n",
       "    <tr>\n",
       "      <th>9</th>\n",
       "      <td>97</td>\n",
       "      <td>1.5</td>\n",
       "      <td>0</td>\n",
       "    </tr>\n",
       "    <tr>\n",
       "      <th>10</th>\n",
       "      <td>97</td>\n",
       "      <td>2.4</td>\n",
       "      <td>0</td>\n",
       "    </tr>\n",
       "    <tr>\n",
       "      <th>11</th>\n",
       "      <td>97</td>\n",
       "      <td>2.9</td>\n",
       "      <td>1</td>\n",
       "    </tr>\n",
       "    <tr>\n",
       "      <th>12</th>\n",
       "      <td>80</td>\n",
       "      <td>1.4</td>\n",
       "      <td>1</td>\n",
       "    </tr>\n",
       "  </tbody>\n",
       "</table>\n",
       "</div>"
      ],
      "text/plain": [
       "    weight  liters_of_beer  wasted\n",
       "0       60             0.5       0\n",
       "1       60             2.5       1\n",
       "2       60             3.2       1\n",
       "3       75             3.1       1\n",
       "4       50             1.0       1\n",
       "5       50             0.1       0\n",
       "6       50             0.2       0\n",
       "7       85             1.0       0\n",
       "8       85             3.0       1\n",
       "9       97             1.5       0\n",
       "10      97             2.4       0\n",
       "11      97             2.9       1\n",
       "12      80             1.4       1"
      ]
     },
     "execution_count": 54,
     "metadata": {},
     "output_type": "execute_result"
    }
   ],
   "source": [
    "df = pd.DataFrame([\n",
    "    [60, 0.5, 0],\n",
    "    [60, 2.5, 1],\n",
    "    [60, 3.2, 1],\n",
    "    [75, 3.1, 1],\n",
    "    [50, 1, 1],\n",
    "    [50, 0.1, 0],\n",
    "    [50, 0.2, 0],\n",
    "    [85, 1, 0],\n",
    "    [85, 3, 1],\n",
    "    [97, 1.5, 0],\n",
    "    [97, 2.4, 0],\n",
    "    [97, 2.9, 1],\n",
    "    [80, 1.4, 1],\n",
    "], columns = ['weight', 'liters_of_beer', 'wasted'])\n",
    "df"
   ]
  },
  {
   "cell_type": "markdown",
   "id": "7cb35871-148e-4319-bdd5-dfb9b976f73f",
   "metadata": {},
   "source": [
    "# Without feature store"
   ]
  },
  {
   "cell_type": "code",
   "execution_count": 55,
   "id": "48e61351-c771-4224-9a3f-06aa90dc4198",
   "metadata": {},
   "outputs": [
    {
     "data": {
      "text/plain": [
       "<Axes: xlabel='liters_per_kg', ylabel='weight'>"
      ]
     },
     "execution_count": 55,
     "metadata": {},
     "output_type": "execute_result"
    },
    {
     "data": {
      "image/png": "[encoded data removed]",
      "text/plain": [
       "<Figure size 640x480 with 1 Axes>"
      ]
     },
     "metadata": {},
     "output_type": "display_data"
    }
   ],
   "source": [
    "# Data preparation (calculate something)\n",
    "df_transformed = df.copy()\n",
    "df_transformed['liters_per_kg'] = df_transformed['liters_of_beer'] / df_transformed['weight']\n",
    "\n",
    "df_transformed.plot.scatter('liters_per_kg', 'weight', c=['green' if wasted == 0 else 'red' for wasted in df['wasted']])"
   ]
  },
  {
   "cell_type": "code",
   "execution_count": 56,
   "id": "c7da5d6d-8ab3-4362-974a-b559d40cc3cc",
   "metadata": {},
   "outputs": [
    {
     "data": {
      "text/plain": [
       "0.5"
      ]
     },
     "execution_count": 56,
     "metadata": {},
     "output_type": "execute_result"
    }
   ],
   "source": [
    "# Do the ML training thing\n",
    "X_train, X_test, y_train, y_test = train_test_split(df_transformed.drop(['wasted'], axis=1), df_transformed['wasted'])\n",
    "model = RandomForestRegressor(n_estimators=1, max_depth=4, max_features=3).fit(X_train, y_train)\n",
    "mean_absolute_error(y_test, model.predict(X_test))"
   ]
  },
  {
   "cell_type": "code",
   "execution_count": 57,
   "id": "cf62a8b5-4aed-4311-ac11-7dd556cb50f7",
   "metadata": {},
   "outputs": [
    {
     "data": {
      "text/plain": [
       "array([0., 1.])"
      ]
     },
     "execution_count": 57,
     "metadata": {},
     "output_type": "execute_result"
    }
   ],
   "source": [
    "# Make an inference\n",
    "df_new = pd.DataFrame([\n",
    "    [60, 0.1],\n",
    "    [60, 5],\n",
    "], columns=['weight', 'liters_of_beer'])\n",
    "\n",
    "df_new_transformed = df_new.copy()\n",
    "df_new_transformed['liters_per_kg'] = df_new_transformed['liters_of_beer'] / df_new_transformed['weight']\n",
    "\n",
    "model.predict(df_new_transformed)"
   ]
  },
  {
   "cell_type": "markdown",
   "id": "56ba1173-7937-49b2-8cd8-610c61da6ccc",
   "metadata": {},
   "source": [
    "# Using Feast\n",
    "\n",
    "running locally, with file-based storage"
   ]
  },
  {
   "cell_type": "code",
   "execution_count": 25,
   "id": "39b93f8f-f58c-424e-9c61-26e6f777253d",
   "metadata": {},
   "outputs": [],
   "source": [
    "#!pip install feast"
   ]
  },
  {
   "cell_type": "code",
   "execution_count": 26,
   "id": "64f27885-c9fb-4ae5-8425-05ad5efd02ab",
   "metadata": {},
   "outputs": [],
   "source": [
    "#!feast init \"feast_tutorial\""
   ]
  },
  {
   "cell_type": "code",
   "execution_count": null,
   "id": "441c413d-2a86-4f69-98c3-636db4e22dcf",
   "metadata": {},
   "outputs": [],
   "source": [
    "# TODO"
   ]
  },
  {
   "cell_type": "markdown",
   "id": "96b461fb-31e8-44eb-b507-c3cea052621f",
   "metadata": {},
   "source": [
    "# Using Databricks\n",
    "This code only runs within the databricks notebooks\n",
    "\n",
    "suposes the prior existance of:\n",
    "1. Catalog named `test_databricks`\n",
    "2. Schema named `default`\n",
    "\n",
    "The workspace should be Premium or Enterprise"
   ]
  },
  {
   "cell_type": "code",
   "execution_count": null,
   "id": "c48933d8-d99f-474a-81a7-3d2fe63589ad",
   "metadata": {},
   "outputs": [],
   "source": [
    "from databricks import feature_store\n",
    "from databricks.feature_engineering import FeatureFunction\n",
    "import mlflow\n",
    "mlflow.autolog()\n",
    "mlflow.set_experiment(\"/Users/lsbenitezpereira@gmail.com/tutorial_feature_store\")"
   ]
  },
  {
   "cell_type": "code",
   "execution_count": null,
   "id": "0ec05cbe-dd5b-4230-89a8-ac4e937e3883",
   "metadata": {},
   "outputs": [],
   "source": [
    "%sql\n",
    "-- Register feature\n",
    "CREATE OR REPLACE FUNCTION test_databricks.default.calculate_liters_per_kg(liters_of_beer DOUBLE, weight BIGINT)\n",
    "RETURNS DOUBLE\n",
    "LANGUAGE PYTHON\n",
    "AS $$\n",
    "return liters_of_beer / weight\n",
    "$$\n"
   ]
  },
  {
   "cell_type": "code",
   "execution_count": null,
   "id": "e89bcb38-f63b-49f0-9a0e-221b4946ab45",
   "metadata": {},
   "outputs": [],
   "source": [
    "# Prepare data (calculate something)\n",
    "fs = feature_store.FeatureStoreClient()\n",
    "dataset_with_feature_metadata = fs.create_training_set(\n",
    "    df=spark.createDataFrame(df),\n",
    "    feature_lookups= [\n",
    "        FeatureFunction(\n",
    "            udf_name=\"test_databricks.default.calculate_liters_per_kg\",\n",
    "            output_name=\"liters_per_kg\",\n",
    "            input_bindings={\n",
    "                'liters_of_beer': 'liters_of_beer',\n",
    "                'weight': 'weight',\n",
    "            },\n",
    "        )\n",
    "    ],\n",
    "    label = 'wasted',\n",
    ")\n",
    "\n",
    "df_transformed = dataset_with_feature_metadata.load_df().toPandas()\n",
    "df_transformed\n"
   ]
  },
  {
   "cell_type": "code",
   "execution_count": null,
   "id": "23eeddb6",
   "metadata": {},
   "outputs": [],
   "source": [
    "with mlflow.start_run() as run:\n",
    "    run_id = run.info.run_id\n",
    "\n",
    "    # Do the ML thing\n",
    "    X_train, X_test, y_train, y_test = train_test_split(df_transformed.drop(['wasted'], axis=1), df_transformed['wasted'])\n",
    "    model = RandomForestRegressor(n_estimators=1, max_depth=5, max_features=3).fit(X_train, y_train)\n",
    "    mean_absolute_error(y_test, model.predict(X_test))\n",
    "\n",
    "    fs.log_model(\n",
    "        model=model,\n",
    "        artifact_path=\"model\",\n",
    "        flavor=mlflow.sklearn,\n",
    "        training_set=dataset_with_feature_metadata,  # This is the magic step\n",
    "    )"
   ]
  },
  {
   "cell_type": "code",
   "execution_count": null,
   "id": "df4d6344-0c38-4b98-a102-7d3fb4dcc82c",
   "metadata": {},
   "outputs": [],
   "source": [
    "# Make an inference\n",
    "# No need to calculate features anymore... MIRACLE!!!\n",
    "# The need of a transformation is already captured in the mlflow model metadata\n",
    "# Therefore, MLflow can perform it automatically for you\n",
    "\n",
    "df_new = pd.DataFrame([\n",
    "    [60, 0.1],\n",
    "    [60, 5],\n",
    "], columns=['weight', 'liters_of_beer'])\n",
    "\n",
    "fs.score_batch(\n",
    "    model_uri=f\"runs:/{run_id}/model\",\n",
    "    df=spark.createDataFrame(df_new),\n",
    ").show()\n",
    "\n",
    "# If you deploy to a databricks serving endpoint, the same happens\n",
    "# You can make the inference with only:\n",
    "# curl ... -d '{\"inputs\": [{\"weight\": 60, \"liters_of_beer\": 3.5}]}' https://<subdomain>.azuredatabricks.net/serving-endpoints/<name>/invocations"
   ]
  }
 ],
 "metadata": {
  "kernelspec": {
   "display_name": "Python 3 (ipykernel)",
   "language": "python",
   "name": "python3"
  },
  "language_info": {
   "codemirror_mode": {
    "name": "ipython",
    "version": 3
   },
   "file_extension": ".py",
   "mimetype": "text/x-python",
   "name": "python",
   "nbconvert_exporter": "python",
   "pygments_lexer": "ipython3",
   "version": "3.10.12"
  }
 },
 "nbformat": 4,
 "nbformat_minor": 5
}
